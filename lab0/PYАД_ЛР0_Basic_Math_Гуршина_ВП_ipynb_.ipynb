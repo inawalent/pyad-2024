{
  "nbformat": 4,
  "nbformat_minor": 0,
  "metadata": {
    "colab": {
      "provenance": []
    },
    "kernelspec": {
      "name": "python3",
      "display_name": "Python 3"
    },
    "language_info": {
      "name": "python"
    }
  },
  "cells": [
    {
      "cell_type": "markdown",
      "source": [
        "### Задача 1 – Умножение матриц"
      ],
      "metadata": {
        "id": "Rbr-ll62IIsZ"
      }
    },
    {
      "cell_type": "markdown",
      "source": [
        "Напишите функцию для умножения матриц, используя только списки и циклы.\n",
        "\n",
        "Не забывайте проверить, что умножение выполнить возможно.\n",
        "Напомним, что две матрицы могут быть перемножены, если число столбцов первой матрицы равно числу строк второй матрицы. Если матрица\n",
        "$A$ имеет размер $m×n$ ($m$ строк и $nя$ столбцов), а матрица $B$ имеет размер $n×p$, то их произведение $C=AB$ будет иметь размер $m×p$.\n",
        "\n",
        "Если $A=(a_{ij})$ — матрица размера $m×n$, а $B=(b_{jk})$ — матрица размера $n×p$, то элемент $c_{ik}$ матрицы $C=AB$ вычисляется по формуле:\n",
        "\n",
        "$$c_{ik}=\\sum_{j=1}^{n}a_{ij}b_{jk}$$\n",
        "\n",
        "То есть каждый элемент новой матрицы является суммой произведений соответствующих элементов строки первой матрицы и столбца второй."
      ],
      "metadata": {
        "id": "8INa2MESLZ4O"
      }
    },
    {
      "cell_type": "code",
      "source": [
        "import numpy as np\n",
        "\n",
        "matrix1 = np.array([[1, 2, 3], [4, 5, 6], [7, 8, 9]])\n",
        "matrix2 = np.array([[9, 8, 7], [6, 5, 4], [3, 2, 1]])\n",
        "\n",
        "def matrix_multiplication(matrix1, matrix2):\n",
        "    # проверка совместимости матриц для умножения\n",
        "    if len(matrix1[0]) != len(matrix2):\n",
        "        raise ValueError(\"Ошибка. Количество столбцов первой матрицы должно совпадать с количеством строк второй матрицы.\")\n",
        "\n",
        "    result = [[0 for _ in range(len(matrix2[0]))] for _ in range(len(matrix1))] # заполнение нулями результирующей матрицы\n",
        "\n",
        "    # умножение матриц\n",
        "    for i in range(len(matrix1)):\n",
        "        for j in range(len(matrix2[0])):\n",
        "            for k in range(len(matrix2)):\n",
        "                result[i][j] += matrix1[i][k] * matrix2[k][j]\n",
        "\n",
        "    return result\n",
        "\n",
        "# конвертация матриц в списки\n",
        "matrix1_list = matrix1.tolist()\n",
        "matrix2_list = matrix2.tolist()\n",
        "\n",
        "result = matrix_multiplication(matrix1_list, matrix2_list)\n",
        "print(\"Произведение матриц:\")\n",
        "for row in result:\n",
        "    print(row)"
      ],
      "metadata": {
        "colab": {
          "base_uri": "https://localhost:8080/"
        },
        "id": "LS0_ikIHtvmt",
        "outputId": "8b62a8e2-0783-4549-c1d1-647deb29bbbc"
      },
      "execution_count": 3,
      "outputs": [
        {
          "output_type": "stream",
          "name": "stdout",
          "text": [
            "Произведение матриц:\n",
            "[30, 24, 18]\n",
            "[84, 69, 54]\n",
            "[138, 114, 90]\n"
          ]
        }
      ]
    },
    {
      "cell_type": "markdown",
      "source": [
        "### Задача 2 – Функции"
      ],
      "metadata": {
        "id": "j73IJuxjISV3"
      }
    },
    {
      "cell_type": "markdown",
      "metadata": {
        "id": "zxRIdPO9gYyX"
      },
      "source": [
        "Дано две функции:\n",
        "\n",
        "\\begin{matrix} F(x) = a_{11}x^2 + a_{12}x + a_{13}&(1) \\\\ P(x) = a_{21}x^2+a_{22}x + a_{23} &(2) \\end{matrix}\n",
        "​\n",
        "* На вход программа должна принимать 2 строки. Каждая строка содержит 3 действительных числа через пробел: коэффициенты $a$.\n",
        "* Необходимо найти точки экстремума функций (например, через функцию [`minimize_scalar()`](https://docs.scipy.org/doc/scipy/reference/generated/scipy.optimize.minimize_scalar.html), [`fmin()`](https://docs.scipy.org/doc/scipy/reference/generated/scipy.optimize.fmin.html) и др.) и определить, есть ли у функций общие решения при введенных коэффициентах на некотором диапазоне значений $x$, предусмотрев ситуации, когда решения есть, решений нет и решений бесконечно много.\n"
      ]
    },
    {
      "cell_type": "code",
      "source": [
        "def functions(a_1, a_2):\n",
        "\n",
        "    # парсинг коэффициентов\n",
        "    a1 = list(map(int, a_1.split()))\n",
        "    a2 = list(map(int, a_2.split()))\n",
        "\n",
        "    if a1 == a2: # проверка на идентичность функций\n",
        "        print(\"Бесконечно много решений.\")\n",
        "        return None\n",
        "\n",
        "    def f(x):\n",
        "        return a1[0] * (x ** 2) + a1[1] * x + a1[2]\n",
        "\n",
        "    def p(x):\n",
        "        return a2[0] * (x ** 2) + a2[1] * x + a2[2]\n",
        "\n",
        "    roots = []\n",
        "\n",
        "    for x in range(-100, 101): # поиск общих решений\n",
        "        f_value = f(x)\n",
        "        p_value = p(x)\n",
        "        if abs(f_value - p_value) < 0.01:  # с учетом погрешности\n",
        "            roots.append((x, round(f_value, 2)))\n",
        "\n",
        "    def find_extremum(coeffs): # поиск точек экстремумов\n",
        "        a, b, _ = coeffs\n",
        "        x_extremum = -b / (2 * a)  # x экстремум\n",
        "        y_extremum = a * (x_extremum ** 2) + b * x_extremum + coeffs[2]  # y экстремум\n",
        "        return x_extremum, y_extremum\n",
        "\n",
        "    extremum_f = find_extremum(a1)\n",
        "    extremum_p = find_extremum(a2)\n",
        "\n",
        "    print(f\"Точка экстремума функции F(x): x = {extremum_f[0]:.3f}, F(x) = {extremum_f[1]:.3f}\")\n",
        "    print(f\"Точка экстремума функции P(x): x = {extremum_p[0]:.3f}, P(x) = {extremum_p[1]:.3f}\")\n",
        "\n",
        "    if roots:\n",
        "        print(\"Есть общие решения:\")\n",
        "        for root in roots:\n",
        "            print(f\"x = {root[0]}, значение функции = {root[1]}\")\n",
        "    else:\n",
        "        print(\"Общих решений нет\")\n",
        "\n",
        "    return roots\n",
        "\n",
        "a_1 = input(\"Введите коэффициенты для первой функции (через пробел): \")\n",
        "a_2 = input(\"Введите коэффициенты для второй функции (через пробел): \")\n",
        "\n",
        "results = functions(a_1, a_2)\n",
        "\n",
        "if results:\n",
        "    print(f\"Все найденные решения: {results}\")"
      ],
      "metadata": {
        "colab": {
          "base_uri": "https://localhost:8080/"
        },
        "id": "q5mFJhX9UlgB",
        "outputId": "2bc01d54-4667-40e8-9728-1126940f3565"
      },
      "execution_count": 9,
      "outputs": [
        {
          "output_type": "stream",
          "name": "stdout",
          "text": [
            "Введите коэффициенты для первой функции (через пробел): 5 6 12\n",
            "Введите коэффициенты для второй функции (через пробел): 10 6 8\n",
            "Точка экстремума функции F(x): x = -0.600, F(x) = 10.200\n",
            "Точка экстремума функции P(x): x = -0.300, P(x) = 7.100\n",
            "Общих решений нет\n"
          ]
        }
      ]
    },
    {
      "cell_type": "markdown",
      "source": [
        "### Задача 3 – Коэффициент асимметрии и эксцесса"
      ],
      "metadata": {
        "id": "85rPnAsNP4DJ"
      }
    },
    {
      "cell_type": "markdown",
      "source": [
        "Напишите функцию, которая для случайной выборки рассчитывает коэффициенты асимметрии и эксцесса.\n",
        "\n",
        "Коэффициент асимметрии:\n",
        "\n",
        "$$A_3=\\frac{m_3}{\\sigma^3}$$\n",
        "\n",
        "Коэффициент эксцесса:\n",
        "\n",
        "$$E_4=\\frac{m_4}{\\sigma^4}-3$$\n",
        "\n",
        "С помощью этих коэффициентов можно прикинуть, насколько близко распределение выборки к нормальному. Для расчета этих коэффициентов понадобится рассчитать центральные моменты третьего ($m_3$) и четвертого ($m_4$) порядка. Основные формулы, которые понадобятся для расчетов:\n",
        "1. Момент второго порядка (он же – дисперсия):\n",
        "$$m_2=D_e=\\frac{∑(x_i-\\overline{x_e})^2\\times n_i}{n}$$\n",
        "2. Момент третьего порядка:\n",
        "$$m_3=\\frac{∑(x_i-\\overline{x_e})^3\\times n_i}{n}$$\n",
        "3. Момент четвертого порядка:\n",
        "$$m_4=\\frac{∑(x_i-\\overline{x_e})^4\\times n_i}{n}$$\n",
        "\n",
        "В формулах выше $\\overline{x_e}$ – это выборочное среднее.\n",
        "$$\\overline{x_e}=\\frac{∑(x_i\\times n_i)}{n},$$\n",
        "где $x_i$ – $i$-е значение из выборки, $n_i$ – число раз, когда $x_i$ встретилось в выборке, $n$ – объем выборки.\n",
        "\n",
        "\n",
        "Проверить корректность расчетов можно с помощью функции [`kurtosis`](https://docs.scipy.org/doc/scipy/reference/generated/scipy.stats.kurtosis.html) для коэффициента эксцесса и функции [`skew`](https://docs.scipy.org/doc/scipy/reference/generated/scipy.stats.kurtosis.html) из `scipy`."
      ],
      "metadata": {
        "id": "ECIdYeJwcVDB"
      }
    },
    {
      "cell_type": "markdown",
      "source": [
        "**Коэффициент асимметрии** количественно определяет степень асимметрии распределения. Он показывает, в какую сторону распределение скошено относительно своего среднего значения.\n",
        "\n",
        "1. Если коэффициент асимметрии больше 0, это означает, что \"длинная часть\" распределения находится справа от среднего (правостороннее распределение). Это может указывать на наличие выбросов или значений, превышающих среднее.\n",
        "2. Если коэффициент меньше 0, \"длинная часть\" находится слева от среднего (левостороннее распределение). Это может свидетельствовать о большем количестве низких значений.\n",
        "3. Коэффициент равен 0, что указывает на симметрию вокруг среднего значения.\n",
        "\n",
        "\n",
        "\n",
        "**Эксцесс** измеряет остроту распределения по сравнению с нормальным распределением и показывает, насколько вероятны выбросы в данных.\n",
        "\n",
        "1. Если эксцесс положителен (больше 0), это указывает на более острый пик и более тяжелые хвосты по сравнению с нормальным распределением. Это означает, что в данных больше выбросов.\n",
        "2. Если эксцесс равен 0, это соответствует нормальному распределению, где пики и хвосты находятся на стандартном уровне.\n",
        "3. Если эксцесс отрицателен (меньше 0), это говорит о более плоском пике и легких хвостах, что указывает на меньшую вероятность выбросов."
      ],
      "metadata": {
        "id": "lpyTcQGuiKlx"
      }
    },
    {
      "cell_type": "code",
      "source": [
        "from scipy.stats import kurtosis, skew"
      ],
      "metadata": {
        "id": "-r9TXrodLRYV"
      },
      "execution_count": 10,
      "outputs": []
    },
    {
      "cell_type": "code",
      "source": [
        "kurtosis([2,3,5,7,8]), skew([2,3,5,7,8])"
      ],
      "metadata": {
        "colab": {
          "base_uri": "https://localhost:8080/"
        },
        "id": "A4u_j34fR_qh",
        "outputId": "ad095f92-58d1-4416-b43c-06d826c022fc"
      },
      "execution_count": 11,
      "outputs": [
        {
          "output_type": "execute_result",
          "data": {
            "text/plain": [
              "(-1.56508875739645, 0.0)"
            ]
          },
          "metadata": {},
          "execution_count": 11
        }
      ]
    },
    {
      "cell_type": "code",
      "source": [
        "kurtosis([2,3,2,5,7,2,2,8]), skew([2,3,2,5,7,2,2,8])"
      ],
      "metadata": {
        "colab": {
          "base_uri": "https://localhost:8080/"
        },
        "id": "GJSj0d2aSD1P",
        "outputId": "dd2f8316-e9a5-4f43-bc79-b3d0f5a020fc"
      },
      "execution_count": 12,
      "outputs": [
        {
          "output_type": "execute_result",
          "data": {
            "text/plain": [
              "(-1.1002728454980493, 0.7565586244407938)"
            ]
          },
          "metadata": {},
          "execution_count": 12
        }
      ]
    },
    {
      "cell_type": "code",
      "source": [
        "import matplotlib.pyplot as plt\n",
        "import seaborn as sns\n",
        "\n",
        "sns.histplot([2,3,2,5,7,2,2,8], kde=True);"
      ],
      "metadata": {
        "colab": {
          "base_uri": "https://localhost:8080/",
          "height": 430
        },
        "id": "MqHndfgzVjgA",
        "outputId": "4ec57dd5-d993-4bca-ab7f-b38a1e98ad24"
      },
      "execution_count": 13,
      "outputs": [
        {
          "output_type": "display_data",
          "data": {
            "text/plain": [
              "<Figure size 640x480 with 1 Axes>"
            ],
            "image/png": "[encoded data removed]"
          },
          "metadata": {}
        }
      ]
    },
    {
      "cell_type": "code",
      "source": [
        "import numpy as np"
      ],
      "metadata": {
        "id": "B_UPHsIkZHvD"
      },
      "execution_count": 14,
      "outputs": []
    },
    {
      "cell_type": "code",
      "source": [
        "def calc_skew(data):\n",
        "    count = len(data)\n",
        "    avg = np.mean(data)\n",
        "    deviation = np.std(data)\n",
        "    third_moment = np.sum((data - avg) ** 3) / count\n",
        "    asymmetry_coefficient = third_moment / deviation ** 3\n",
        "    result = round(asymmetry_coefficient, 2)\n",
        "    print(f\"Коэффициент асимметрии: {result}\")\n",
        "    return result\n",
        "\n",
        "def calc_excess(data):\n",
        "    count = len(data)\n",
        "    avg = np.mean(data)\n",
        "    deviation = np.std(data)\n",
        "    fourth_moment = np.sum((data - avg) ** 4) / count\n",
        "    kurtosis_coefficient = fourth_moment / deviation ** 4 - 3\n",
        "    result = round(kurtosis_coefficient, 2)\n",
        "    print(f\"Коэффициент эксцесса: {result}\")\n",
        "    return result\n",
        "\n",
        "data_input = [1, 2, 3, 4, 5, 6, 7, 8, 9]\n",
        "skew_result = calc_skew(data_input)\n",
        "excess_result = calc_excess(data_input)\n",
        "\n",
        "print(f\"Результаты анализа:\\n- Асимметрия: {skew_result}\\n- Эксцесс: {excess_result}\")"
      ],
      "metadata": {
        "colab": {
          "base_uri": "https://localhost:8080/"
        },
        "id": "SuEfUVrgY6JH",
        "outputId": "fe72019c-8c79-44da-dd85-72abdb6535c9"
      },
      "execution_count": 16,
      "outputs": [
        {
          "output_type": "stream",
          "name": "stdout",
          "text": [
            "Коэффициент асимметрии: 0.0\n",
            "Коэффициент эксцесса: -1.23\n",
            "Результаты анализа:\n",
            "- Асимметрия: 0.0\n",
            "- Эксцесс: -1.23\n"
          ]
        }
      ]
    },
    {
      "cell_type": "markdown",
      "source": [
        "### Куда и как сдавать работу?\n",
        "\n",
        "По инструкции в гитхаб – https://shy-question-39d.notion.site/1150ea832e418032bfc3d3e827c380fb?pvs=74\n",
        "\n",
        "**Устная защита работ не требуется, но вам могут быть заданы вопросы прямо в вашем пул-реквесте!**"
      ],
      "metadata": {
        "id": "S0lPIXMvB6vb"
      }
    },
    {
      "cell_type": "code",
      "source": [],
      "metadata": {
        "id": "qiQPuwJNwpuk"
      },
      "execution_count": null,
      "outputs": []
    }
  ]
}